{
 "cells": [
  {
   "cell_type": "code",
   "execution_count": 2,
   "metadata": {},
   "outputs": [
    {
     "ename": "ModuleNotFoundError",
     "evalue": "No module named 'geopandas'",
     "output_type": "error",
     "traceback": [
      "\u001b[1;31m---------------------------------------------------------------------------\u001b[0m",
      "\u001b[1;31mModuleNotFoundError\u001b[0m                       Traceback (most recent call last)",
      "Cell \u001b[1;32mIn[2], line 1\u001b[0m\n\u001b[1;32m----> 1\u001b[0m \u001b[39mimport\u001b[39;00m \u001b[39mgeopandas\u001b[39;00m\n\u001b[0;32m      3\u001b[0m gdf \u001b[39m=\u001b[39m geopandas\u001b[39m.\u001b[39mread_file(\u001b[39m\"\u001b[39m\u001b[39mD:\u001b[39m\u001b[39m\\\u001b[39m\u001b[39mBachelor_work\u001b[39m\u001b[39m\\\u001b[39m\u001b[39mУчоба\u001b[39m\u001b[39m\\\u001b[39m\u001b[39mГео\u001b[39m\u001b[39m\\\u001b[39m\u001b[39mGeo\u001b[39m\u001b[39m\"\u001b[39m)\n",
      "\u001b[1;31mModuleNotFoundError\u001b[0m: No module named 'geopandas'"
     ]
    }
   ],
   "source": [
    "import geopandas\n",
    "\n",
    "gdf = geopandas.read_file(\"D:\\Bachelor_work\\Учоба\\Гео\\Geo\")"
   ]
  },
  {
   "cell_type": "code",
   "execution_count": null,
   "metadata": {},
   "outputs": [],
   "source": [
    "gdf.crs"
   ]
  },
  {
   "cell_type": "code",
   "execution_count": null,
   "metadata": {},
   "outputs": [],
   "source": [
    "gdf.size"
   ]
  },
  {
   "cell_type": "code",
   "execution_count": null,
   "metadata": {},
   "outputs": [],
   "source": [
    "gdf.columns.to_list()"
   ]
  },
  {
   "cell_type": "code",
   "execution_count": null,
   "metadata": {},
   "outputs": [],
   "source": [
    "gdf.head(10)"
   ]
  },
  {
   "cell_type": "code",
   "execution_count": null,
   "metadata": {},
   "outputs": [],
   "source": [
    "crop_name_list = gdf['crop_name'].tolist()\n",
    "crop_name_type_list = list(dict.fromkeys(crop_name_list))\n",
    "print(f'Культури: {crop_name_type_list}, їх кількість: {len(crop_name_type_list)}')\n",
    "\n",
    "first_crop_count = crop_name_list.count(crop_name_type_list[0])\n",
    "print(f'Кількість культури {crop_name_type_list[0]}: {first_crop_count}')\n",
    "\n",
    "second_crop_count = crop_name_list.count(crop_name_type_list[1])\n",
    "print(f'Кількість культури {crop_name_type_list[1]}: {second_crop_count}')\n",
    "\n",
    "third_crop_count = crop_name_list.count(crop_name_type_list[2])\n",
    "print(f'Кількість культури {crop_name_type_list[2]}: {third_crop_count}')"
   ]
  },
  {
   "cell_type": "code",
   "execution_count": null,
   "metadata": {},
   "outputs": [],
   "source": [
    "actual_yield_list = gdf['actual_yield'].tolist()\n",
    "field_id_list = gdf['field_id'].tolist()\n",
    "\n",
    "max_actual_yield = max(actual_yield_list)\n",
    "max_actual_yield_index = actual_yield_list.index(max_actual_yield)\n",
    "max_actual_yield_crop_name = crop_name_list[max_actual_yield_index]\n",
    "max_actual_yield_field_id = field_id_list[max_actual_yield_index]\n",
    "print(f'Максимальна врожайність: {max_actual_yield}, його культьра {max_actual_yield_crop_name} та поле {max_actual_yield_field_id}')\n",
    "\n",
    "min_actual_yield = min(actual_yield_list)\n",
    "min_actual_yield_index = actual_yield_list.index(min_actual_yield)\n",
    "min_actual_yield_crop_name = crop_name_list[min_actual_yield_index]\n",
    "min_actual_yield_field_id = field_id_list[min_actual_yield_index]\n",
    "print(f'Мінімальна врожайність: {min_actual_yield}, його культьра {min_actual_yield_crop_name} та поле {min_actual_yield_field_id}')"
   ]
  }
 ],
 "metadata": {
  "kernelspec": {
   "display_name": "venv",
   "language": "python",
   "name": "python3"
  },
  "language_info": {
   "codemirror_mode": {
    "name": "ipython",
    "version": 3
   },
   "file_extension": ".py",
   "mimetype": "text/x-python",
   "name": "python",
   "nbconvert_exporter": "python",
   "pygments_lexer": "ipython3",
   "version": "3.9.0"
  },
  "orig_nbformat": 4
 },
 "nbformat": 4,
 "nbformat_minor": 2
}
